{
 "cells": [
  {
   "cell_type": "code",
   "execution_count": 115,
   "metadata": {},
   "outputs": [],
   "source": [
    "import os\n",
    "import re\n",
    "import regex\n",
    "import random"
   ]
  },
  {
   "cell_type": "code",
   "execution_count": 4,
   "metadata": {},
   "outputs": [
    {
     "data": {
      "text/plain": [
       "1341"
      ]
     },
     "execution_count": 4,
     "metadata": {},
     "output_type": "execute_result"
    }
   ],
   "source": [
    "in_dir = 'théâtre-classique'\n",
    "files = os.listdir(in_dir)\n",
    "total = len(files)\n",
    "total"
   ]
  },
  {
   "cell_type": "code",
   "execution_count": 441,
   "metadata": {},
   "outputs": [],
   "source": [
    "regices = []\n",
    "# regices.append(regex.compile('\\s*PROLOGUE.*\\s*$', regex.MULTILINE))\n",
    "# regices.append(regex.compile('^\\s*SC[ÈE]NE I[.,].*$', regex.MULTILINE))\n",
    "# regices.append(regex.compile('^\\s*SC[ÈE]NE PREMI[ÈE]RE[.,].*$', regex.MULTILINE))\n",
    "# regices.append(regex.compile('^\\s*SC[ÈE]NE UNIQUE[.,].*$', regex.MULTILINE))\n",
    "# regices.append(regex.compile('^\\s*I[.,].*$', regex.MULTILINE))\n",
    "# regices.append(regex.compile('^\\s*INTROÏT[.,].*$', regex.MULTILINE))\n",
    "# regices.append(regex.compile('\\s*ACTE I\\.*\\s*$', regex.MULTILINE))\n",
    "# regices.append(regex.compile('\\s*PREMIER INTERM[EÈ]DE\\.*\\s*$', regex.MULTILINE))\n",
    "regices.append(regex.compile(r'\\s{3,}(\\b(?!PERSONNAGES)\\p{Lu}\\b)+\\.*', regex.UNICODE | regex.VERSION1))\n",
    "# regices.append(regex.compile(r'\\s{3,}\\t+(\\b\\p{Lu}+\\b|[ \\'\\-’.]+)+[\\s--[\\n\\r]]*\\n', regex.UNICODE | regex.VERSION1))\n",
    "# regices.append(regex.compile(r'\\s{3,}(\\b\\p{Lu}+\\b|[ \\'\\-’.]+)+[\\s--[\\n\\r]]*\\n', regex.UNICODE | regex.VERSION1))\n",
    "# # regices.append(regex.compile('^[\\s]*(\\p{Lu}|[ \\'’])+[.?!]*[\\s--[\\n\\r]]*$', regex.MULTILINE | regex.UNICODE | regex.VERSION1))\n",
    "# regices.append(regex.compile('^\\s*DIVERTISSEMENT\\.*\\s*$', regex.MULTILINE))\n",
    "# regices.append(regex.compile('^Paru dans.*\\n+\\s*[A-Z]+\\s*$', regex.MULTILINE))"
   ]
  },
  {
   "cell_type": "code",
   "execution_count": 79,
   "metadata": {},
   "outputs": [],
   "source": [
    "def new_rand_text(files):\n",
    "    total = len(files)\n",
    "    randfile = files[random.randint(0,total-1)]\n",
    "    print('file '+randfile)\n",
    "    with open(os.path.join(in_dir, randfile), 'r') as f:\n",
    "        txt = f.read()\n",
    "    return txt"
   ]
  },
  {
   "cell_type": "code",
   "execution_count": null,
   "metadata": {},
   "outputs": [],
   "source": [
    "# ! personnages entre parenthèses carrées!"
   ]
  },
  {
   "cell_type": "code",
   "execution_count": 442,
   "metadata": {
    "collapsed": true,
    "jupyter": {
     "outputs_hidden": true
    }
   },
   "outputs": [
    {
     "name": "stdout",
     "output_type": "stream",
     "text": [
      "\n",
      "================================================================================\n",
      "================================================================================\n",
      "PROVERBE de VOYAGE DE CAMPAGNE\n",
      "Par Madame_la_Comtesse de M***\n",
      "avec les comédies en proverbe de Madame D***\n",
      "M. DC IC. Avec approbation et privilège du Roi.\n",
      "\n",
      "À PARIS, Chez PRAULT Père, Quai de Gêvres, au Paradis.\n",
      "\n",
      "\n",
      "\n",
      "ACTEURS.\n",
      "MADAME DE VIEILLARDIS.\n",
      "LE CHEVALIER.\n",
      "CATOS.\n",
      "CHAMPAGNE.\n",
      "La scène est à Paris, dans la maison de Madame de Falignac.\n",
      "\n",
      "Cette pièce est insérée dans \"Voyage de campagne\" de Mme Henriette-Julie de Castelnau Comtesse de Murat (1670-1716). pp 200-211\n",
      "\n",
      "\n",
      "\t\t\t\n",
      "\n",
      "\n",
      "PROVERBE.\n",
      "CATOS.\n",
      "Monsieur Champagne, franchement vous avez un maître fort téméraire : croit-il dire impunément des douceurs à madame de Vieillardis ? Elle prend feu plus aisément qu'une autre : son mari est son serviteur très obéissant, il ne songe pas à la contrarier ; et quand il le hasarderait, ce serait peine perdue : elle a une pente à l'amour, que soixante ans, et vingt héritiers qu'elle a donnés à la maison de Vieillardis, n'ont fait qu'augmenter jusqu'ici.\n",
      "CHAMPAGNE.\n",
      "Oh ! Je le crois bien, mademoiselle Catos : j'ai toujours entendu dire aux connaisseurs, que l'amour augmente en vieillissant dans le cour des femmes : ce serait une belle chose s'il en était autant des hommes ; mais malheureusement, cela n'est pas ainsi ; et cela fait que les vieilles amoureuses ne trouvent des amants que l'argent à la main.\n",
      "CATOS.\n",
      "Oui ; mais Madame de Vieillardis croit avoir été faite par les grâces, et que l'ouvrage de ces déesses-là ne se gâte point. On l'encense tous les jours à brûle-pourpoint, pour se moquer d'elle ; et son amour propre lui garantit bon, tout ce qu'on lui dit sur ce ton-là.\n",
      "CHAMPAGNE.\n",
      "Avouez, mademoiselle Catos, que c'est une terrible machine que la femme, et que...\n",
      "CATOS.\n",
      "Taisez-vous Champagne ; je n'aime pas la physique ; mais dès que j'entends parler de machines, je m'enfuis, ou je me bouche les oreilles.\n",
      "CHAMPAGNE.\n",
      "J'avais pourtant bien quelque petit discours physique à vous faire, et les mouvements que je sens dans mon cour, me serviraient à vous prouver que...\n",
      "CATOS.\n",
      "Oh ! Encore une fois ; taisez-vous, aussi bien voici madame.\n",
      "MADAME DE VIEILLARDIS.\n",
      "Bonjour, mon pauvre Champagne ; où est ton maître aujourd'hui ?\n",
      "CHAMPAGNE.\n",
      "Madame, je le croyais auprès de vous : il faut qu'il ait des affaires bien considérables, quand il s'en sépare un moment : Aussi a-t-il grande raison; belle et jeune comme vous êtes, où pourrait-il être mieux ?\n",
      "MADAME DE VIEILLARDIS.\n",
      "Hélas, mon pauvre ami, les hommes sont bizarres ! S'il est vrai que je suis belle, c'est une chose assez visible ; et quand on n'a que trente ans, je crois qu'on peut encore passer pour jeune.\n",
      "CATOS, à part.\n",
      "Sa fille en a pourtant quarante-cinq.\n",
      "MADAME DE VIEILLARDIS.\n",
      "Que dis-tu, Catos ?\n",
      "CATOS.\n",
      "Je dis, madame, que mademoiselle votre fille a le plus grand tort du monde d'en paraître quarante-cinq.\n",
      "MADAME DE VIEILLARDIS.\n",
      "Et si, Catos, ne parlons point d'elle ; c'est une chose que je n'ai jamais comprise, quand je la vois de la figure dont elle est : car enfin, encore une fois, je n'ai que trente ans au plus ; c'est une vérité constante. Mais j'aperçois le chevalier : Approchez, approchez, petit fripon ; on ne vous a vu d'aujourd'hui.\n",
      "LE CHEVALIER.\n",
      "J'en suis le premier puni, madame, puisque je ne vous ai point vue ; c'est une absence cruelle : et quand on rentre chez vous, on est toujours si ébloui des nouvelles grâces qu'on vous retrouve, et du brillant de vos yeux, qu'on sent bien qu'il n'y a que l'habitude qui puisse faire soutenir l'un et l'autre.\n",
      "MADAME DE VIEILLARDIS.\n",
      "On est pourtant assez gracieuse pour vous : on tâche à tempérer ce qu'il peut y avoir de trop éclatant dans les regards ; mais l'amour y ajoute des feux, quand on en retranche les éclairs.\n",
      "LE CHEVALIER.\n",
      "Et toujours de l'esprit de plus en plus, madame ! Trop heureux de contempler à tous moment vos beautés, et de goûter les charmes de vos divines conversations ! Mais ne me refusez pas votre belle main, pour m'assurer que vous ne me retrancherez jamais la liberté de vous voir.\n",
      "MADAME DE VIEILLARDIS.\n",
      "Tenez, chevalier; vous peut-on refuser quelque chose ?\n",
      "LE CHEVALIER, en baisant la main de madame Vieillardis.\n",
      "Quelle main ! Qui peut être à l'heure qu'il est aussi heureux que moi ? Mais voilà une bague dont je suis jaloux : elle a le plaisir de toucher vos doigts ; elle n'y restera pas assurément ; et je vais la faire passer dans les miens, pour la punir de trop de douceurs qu'elle a goûtées.\n",
      "MADAME DE VIEILLARDIS.\n",
      "Petit badin, allez, je vous la donne : elle est de deux cents pistoles ; mais c'est une bagatelle, et j'ai à vous entretenir en particulier de choses plus intéressantes. Passons dans mon cabinet.\n",
      "LE CHEVALIER, à Champagne, en s'en allant.\n",
      "Ah, Champagne, je meurs de peur !\n",
      "CHAMPAGNE, riant.\n",
      "À votre avis, mademoiselle Catos, de quoi Madame de Vieillardis va-t-elle entretenir mon maître ?\n",
      "CATOS.\n",
      "Oh ! Mais que sais-je ? De mariage, peut-être ; peut-être aussi de physique.\n",
      "CHAMPAGNE.\n",
      "Comment, de mariage ! Et n'a-t-elle pas un mari ?\n",
      "CATOS.\n",
      "Oui ; mais elle croit toujours qu'il va mourir : enfin ce sera toujours de quelque chose comme cela qu'elle l'entretiendra.\n",
      "MADAME DE VIEILLARDIS.\n",
      "Catos, Champagne, au secours ; de l'eau, de la reine d'Hongrie ; du vinaigre.\n",
      "CATOS.\n",
      "Eh, mon Dieu ! Qu'est-ce que tout ceci ?\n",
      "MADAME DE VIEILLARDIS.\n",
      "Ce pauvre garçon m'aime avec une délicatesse si parfaite , qu'au seul aveu que je lui ai sait de la passion que j'ai pour lui, il s'est évanoui à mes pieds.\n",
      "CATOS.\n",
      "Oh ! Ce n'est que cela ? Je croyais que tout était perdu : Je ne m'étonne pas de ce mal subit : il n'y a personne qu'une telle déclaration ne fasse tomber de son haut.\n",
      "MADAME DE VIEILLARDIS.\n",
      "Je vais chercher d'un élixir excellent contre les faiblesses.\n",
      "CHAMPAGNE.\n",
      "Monsieur, sortez ; il n'y a ici que mademoiselle Catos et moi.\n",
      "LE CHEVALIER.\n",
      "Ma foi, sans mon évanouissement, je ne sais ce que je serais devenu. On ne m'y ratrappera de ma vie.\n",
      "CHAMPAGNE.\n",
      "Parbleu , monsieur, je vous trouvais aussi fort téméraire, d'aller essuyer un tête-à-tête avec une madame de Vieillardis.\n",
      "LE CHEVALIER.\n",
      "Vraiment, j'en avais assez peur : mais un diamant de deux cents pistoles, que j'avais fait si subtilement passer de son doigt au mien, méritait quelque complaisance. Mais je ne risquerai plus de ces aventures-là.\n",
      "CATOS.\n",
      "Ma foi, monsieur, partez donc ? Car elle est allée quérir d'un élixir propre à réparer les forces : II ne vous serait plus permis après cela de vous évanouir, une seconde fois.\n",
      "LE CHEVALIER.\n",
      "Adieu, Catos ; je suis, pour éviter son retour.\n",
      "CATOS.\n",
      "La vieille sera bien surprise ; quand elle ne trouvera plus l'évanoui !\n",
      "MADAME DE VIEILLARDIS, revenant.\n",
      "Catos, où est le chevalier ?\n",
      "CATOS.\n",
      "Nous l'avons fait revenir, madame ; et aussitôt il est parti avec son Champagne, qui a bien de la peine à le traîner : il est si honteux de cet accident, qu'il dit qu'il n'osera plus se présenter devant vous.\n",
      "MADAME DE VIEILLARDIS, revenant.\n",
      "Hélas ! Le pauvre enfant, qu'il a le cour bon ! Voilà une bouteille, ma chère Catos, que je ne donnerais pas pour cent mille écus : il n'aura pas sitôt pris une goutte ; de la liqueur qu'elle renferme, qu'il sera guéri. Appelle-moi quelqu'un, pour que j'envoie savoir de ses nouvelles, en attendant que mes chevaux soient à mon carrosse, pour aller moi-même m'en informer.\n"
     ]
    }
   ],
   "source": [
    "# txt = new_rand_text(new_files)\n",
    "\n",
    "for reg in regices:\n",
    "    \n",
    "    match = regex.finditer(reg, txt)\n",
    "    for m in match:\n",
    "        if 'ACTEURS' in m.group(0) or 'PERSONNAGES' in m.group(0):\n",
    "            print(m.group(0))\n",
    "            continue        \n",
    "        print(m)\n",
    "        \n",
    "#     match = regex.search(reg, txt)\n",
    "#     if match:\n",
    "#         end = match.end()\n",
    "#         start = end-200 if (end-200) > 0 else 0\n",
    "# #         print(txt[start:end])\n",
    "# #         print('-'*80)\n",
    "# #         print(match.re)\n",
    "# #         print(match.group(0).encode('utf-8'))\n",
    "#         print(match.group(0))\n",
    "#         print('-'*80)\n",
    "#         print(txt[end:end+200])\n",
    "#         break\n",
    "\n",
    "print()\n",
    "print('='*80)\n",
    "print('='*80)\n",
    "print(txt)"
   ]
  },
  {
   "cell_type": "code",
   "execution_count": 72,
   "metadata": {},
   "outputs": [
    {
     "name": "stdout",
     "output_type": "stream",
     "text": [
      "150\n"
     ]
    }
   ],
   "source": [
    "new_files = []\n",
    "for fname in files:\n",
    "    with open(os.path.join(in_dir, fname), 'r') as f:\n",
    "        txt = f.read()  \n",
    "        matches = [re.search(regex, txt) for regex in regices]\n",
    "        if all(m is None for m in matches):\n",
    "            new_files.append(fname)\n",
    "print(len(new_files))            "
   ]
  },
  {
   "cell_type": "markdown",
   "metadata": {},
   "source": [
    "More experiments with regices."
   ]
  },
  {
   "cell_type": "code",
   "execution_count": 474,
   "metadata": {},
   "outputs": [
    {
     "data": {
      "text/plain": [
       "['.', '?', ':', ';', ',', '!']"
      ]
     },
     "execution_count": 474,
     "metadata": {},
     "output_type": "execute_result"
    }
   ],
   "source": [
    "regex.findall('\\p{posix_punct}', '\\n.? :;,!', regex.UNICODE)"
   ]
  },
  {
   "cell_type": "code",
   "execution_count": 482,
   "metadata": {},
   "outputs": [
    {
     "data": {
      "text/plain": [
       "<regex.Match object; span=(0, 11), match='BLAH ACTEUR'>"
      ]
     },
     "execution_count": 482,
     "metadata": {},
     "output_type": "execute_result"
    }
   ],
   "source": [
    "p = regex.compile(r'^(((?!(PERSONNAGES|ACTEURS))\\p{Lu})+\\P{posix_alnum}*)+$', regex.UNICODE | regex.VERSION1)\n",
    "regex.search(p, 'BLAH ACTEUR')"
   ]
  },
  {
   "cell_type": "markdown",
   "metadata": {},
   "source": [
    "Correcting error in scrape:"
   ]
  },
  {
   "cell_type": "code",
   "execution_count": 404,
   "metadata": {},
   "outputs": [
    {
     "data": {
      "text/plain": [
       "'XXXX'"
      ]
     },
     "execution_count": 404,
     "metadata": {},
     "output_type": "execute_result"
    }
   ],
   "source": [
    "err = \"\\** +\"\n",
    "err += re.escape(\"Erreur dans l'interprétation du texte (ligne \")\n",
    "err += \"[0-9]+\"\n",
    "err += re.escape(\", programme : edition\")\n",
    "err += \"(_txt)*\"\n",
    "err += re.escape(\".php)\")\n",
    "err_re = re.compile(err)\n",
    "re.sub(err,'', \"XXXX Erreur dans l'interprétation du texte (ligne 679, programme : edition.php)\")"
   ]
  }
 ],
 "metadata": {
  "kernelspec": {
   "display_name": "Python 3",
   "language": "python",
   "name": "python3"
  },
  "language_info": {
   "codemirror_mode": {
    "name": "ipython",
    "version": 3
   },
   "file_extension": ".py",
   "mimetype": "text/x-python",
   "name": "python",
   "nbconvert_exporter": "python",
   "pygments_lexer": "ipython3",
   "version": "3.7.3"
  }
 },
 "nbformat": 4,
 "nbformat_minor": 4
}
